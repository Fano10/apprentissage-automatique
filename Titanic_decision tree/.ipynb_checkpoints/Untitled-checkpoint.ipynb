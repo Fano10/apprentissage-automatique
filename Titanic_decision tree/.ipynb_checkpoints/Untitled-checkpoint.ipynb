{
 "cells": [
  {
   "cell_type": "markdown",
   "id": "584a7b09",
   "metadata": {},
   "source": [
    "### Prédiction des survies titanic avec les réseaux de neurones\n",
    "Dans ce travail, nous allons reprédire le taux de survie pendant le naufrage titanic mais maintenant en utilisant les arbres de décisions"
   ]
  },
  {
   "cell_type": "markdown",
   "id": "d853d2de",
   "metadata": {},
   "source": [
    "### Packages"
   ]
  },
  {
   "cell_type": "code",
   "execution_count": 226,
   "id": "3f751c22",
   "metadata": {},
   "outputs": [],
   "source": [
    "import numpy as np\n",
    "import pandas as pd\n",
    "import csv\n",
    "import chardet\n",
    "from sklearn.tree import DecisionTreeClassifier\n",
    "from sklearn.ensemble import RandomForestClassifier\n",
    "from sklearn.model_selection import train_test_split\n",
    "from sklearn.metrics import accuracy_score\n",
    "from xgboost import XGBClassifier\n",
    "import matplotlib.pyplot as plt\n",
    "\n",
    "RANDOM_STATE = 55 ## Nous passerons ce valeur pour chaque fonction sklearn afin d'assuerer la reproductibilite"
   ]
  },
  {
   "cell_type": "markdown",
   "id": "30219554",
   "metadata": {},
   "source": [
    "### Préparation des données"
   ]
  },
  {
   "cell_type": "code",
   "execution_count": 227,
   "id": "33c3ce42",
   "metadata": {},
   "outputs": [
    {
     "data": {
      "text/html": [
       "<div>\n",
       "<style scoped>\n",
       "    .dataframe tbody tr th:only-of-type {\n",
       "        vertical-align: middle;\n",
       "    }\n",
       "\n",
       "    .dataframe tbody tr th {\n",
       "        vertical-align: top;\n",
       "    }\n",
       "\n",
       "    .dataframe thead th {\n",
       "        text-align: right;\n",
       "    }\n",
       "</style>\n",
       "<table border=\"1\" class=\"dataframe\">\n",
       "  <thead>\n",
       "    <tr style=\"text-align: right;\">\n",
       "      <th></th>\n",
       "      <th>PassengerId</th>\n",
       "      <th>Survived</th>\n",
       "      <th>Pclass</th>\n",
       "      <th>Name</th>\n",
       "      <th>Sex</th>\n",
       "      <th>Age</th>\n",
       "      <th>SibSp</th>\n",
       "      <th>Parch</th>\n",
       "      <th>Ticket</th>\n",
       "      <th>Fare</th>\n",
       "      <th>Cabin</th>\n",
       "      <th>Embarked</th>\n",
       "    </tr>\n",
       "  </thead>\n",
       "  <tbody>\n",
       "    <tr>\n",
       "      <th>0</th>\n",
       "      <td>1</td>\n",
       "      <td>0</td>\n",
       "      <td>3</td>\n",
       "      <td>Braund, Mr. Owen Harris</td>\n",
       "      <td>male</td>\n",
       "      <td>22.0</td>\n",
       "      <td>1</td>\n",
       "      <td>0</td>\n",
       "      <td>A/5 21171</td>\n",
       "      <td>7.2500</td>\n",
       "      <td>NaN</td>\n",
       "      <td>S</td>\n",
       "    </tr>\n",
       "    <tr>\n",
       "      <th>1</th>\n",
       "      <td>2</td>\n",
       "      <td>1</td>\n",
       "      <td>1</td>\n",
       "      <td>Cumings, Mrs. John Bradley (Florence Briggs Th...</td>\n",
       "      <td>female</td>\n",
       "      <td>38.0</td>\n",
       "      <td>1</td>\n",
       "      <td>0</td>\n",
       "      <td>PC 17599</td>\n",
       "      <td>71.2833</td>\n",
       "      <td>C85</td>\n",
       "      <td>C</td>\n",
       "    </tr>\n",
       "    <tr>\n",
       "      <th>2</th>\n",
       "      <td>3</td>\n",
       "      <td>1</td>\n",
       "      <td>3</td>\n",
       "      <td>Heikkinen, Miss. Laina</td>\n",
       "      <td>female</td>\n",
       "      <td>26.0</td>\n",
       "      <td>0</td>\n",
       "      <td>0</td>\n",
       "      <td>STON/O2. 3101282</td>\n",
       "      <td>7.9250</td>\n",
       "      <td>NaN</td>\n",
       "      <td>S</td>\n",
       "    </tr>\n",
       "    <tr>\n",
       "      <th>3</th>\n",
       "      <td>4</td>\n",
       "      <td>1</td>\n",
       "      <td>1</td>\n",
       "      <td>Futrelle, Mrs. Jacques Heath (Lily May Peel)</td>\n",
       "      <td>female</td>\n",
       "      <td>35.0</td>\n",
       "      <td>1</td>\n",
       "      <td>0</td>\n",
       "      <td>113803</td>\n",
       "      <td>53.1000</td>\n",
       "      <td>C123</td>\n",
       "      <td>S</td>\n",
       "    </tr>\n",
       "    <tr>\n",
       "      <th>4</th>\n",
       "      <td>5</td>\n",
       "      <td>0</td>\n",
       "      <td>3</td>\n",
       "      <td>Allen, Mr. William Henry</td>\n",
       "      <td>male</td>\n",
       "      <td>35.0</td>\n",
       "      <td>0</td>\n",
       "      <td>0</td>\n",
       "      <td>373450</td>\n",
       "      <td>8.0500</td>\n",
       "      <td>NaN</td>\n",
       "      <td>S</td>\n",
       "    </tr>\n",
       "  </tbody>\n",
       "</table>\n",
       "</div>"
      ],
      "text/plain": [
       "   PassengerId  Survived  Pclass  \\\n",
       "0            1         0       3   \n",
       "1            2         1       1   \n",
       "2            3         1       3   \n",
       "3            4         1       1   \n",
       "4            5         0       3   \n",
       "\n",
       "                                                Name     Sex   Age  SibSp  \\\n",
       "0                            Braund, Mr. Owen Harris    male  22.0      1   \n",
       "1  Cumings, Mrs. John Bradley (Florence Briggs Th...  female  38.0      1   \n",
       "2                             Heikkinen, Miss. Laina  female  26.0      0   \n",
       "3       Futrelle, Mrs. Jacques Heath (Lily May Peel)  female  35.0      1   \n",
       "4                           Allen, Mr. William Henry    male  35.0      0   \n",
       "\n",
       "   Parch            Ticket     Fare Cabin Embarked  \n",
       "0      0         A/5 21171   7.2500   NaN        S  \n",
       "1      0          PC 17599  71.2833   C85        C  \n",
       "2      0  STON/O2. 3101282   7.9250   NaN        S  \n",
       "3      0            113803  53.1000  C123        S  \n",
       "4      0            373450   8.0500   NaN        S  "
      ]
     },
     "execution_count": 227,
     "metadata": {},
     "output_type": "execute_result"
    }
   ],
   "source": [
    "#Connaitre l'encodage du csv\n",
    "with open('data/train.csv','rb') as file:\n",
    "    rawdata = file.read(1000)\n",
    "    result = chardet.detect(rawdata)\n",
    "    enc = result['encoding']\n",
    "#lire le csv\n",
    "data = pd.read_csv('data/train.csv',encoding = enc)\n",
    "data.head()"
   ]
  },
  {
   "cell_type": "markdown",
   "id": "ac030d00",
   "metadata": {},
   "source": [
    "### Encodage one-hot en utilisant pandas"
   ]
  },
  {
   "cell_type": "markdown",
   "id": "c804db2b",
   "metadata": {},
   "source": [
    "Avant d'utiliser l'encodage one-hot, nous allons d'abord supprimer les colonnes Name, Ticket et PassengerId car ces 2 colonnes ne nous aident pas a la prediction"
   ]
  },
  {
   "cell_type": "code",
   "execution_count": 228,
   "id": "4c89ec0d",
   "metadata": {},
   "outputs": [],
   "source": [
    "#data = data.drop(columns=['Name','Ticket','PassengerId','Embarked','Fare','Cabin'])\n",
    "data = data.drop(columns=['Name','Ticket','PassengerId','Fare'])"
   ]
  },
  {
   "cell_type": "code",
   "execution_count": 229,
   "id": "f0973af8",
   "metadata": {},
   "outputs": [
    {
     "data": {
      "text/html": [
       "<div>\n",
       "<style scoped>\n",
       "    .dataframe tbody tr th:only-of-type {\n",
       "        vertical-align: middle;\n",
       "    }\n",
       "\n",
       "    .dataframe tbody tr th {\n",
       "        vertical-align: top;\n",
       "    }\n",
       "\n",
       "    .dataframe thead th {\n",
       "        text-align: right;\n",
       "    }\n",
       "</style>\n",
       "<table border=\"1\" class=\"dataframe\">\n",
       "  <thead>\n",
       "    <tr style=\"text-align: right;\">\n",
       "      <th></th>\n",
       "      <th>Survived</th>\n",
       "      <th>Pclass</th>\n",
       "      <th>Sex</th>\n",
       "      <th>Age</th>\n",
       "      <th>SibSp</th>\n",
       "      <th>Parch</th>\n",
       "      <th>Cabin</th>\n",
       "      <th>Embarked</th>\n",
       "    </tr>\n",
       "  </thead>\n",
       "  <tbody>\n",
       "    <tr>\n",
       "      <th>0</th>\n",
       "      <td>0</td>\n",
       "      <td>3</td>\n",
       "      <td>male</td>\n",
       "      <td>22.0</td>\n",
       "      <td>1</td>\n",
       "      <td>0</td>\n",
       "      <td>NaN</td>\n",
       "      <td>S</td>\n",
       "    </tr>\n",
       "    <tr>\n",
       "      <th>1</th>\n",
       "      <td>1</td>\n",
       "      <td>1</td>\n",
       "      <td>female</td>\n",
       "      <td>38.0</td>\n",
       "      <td>1</td>\n",
       "      <td>0</td>\n",
       "      <td>C85</td>\n",
       "      <td>C</td>\n",
       "    </tr>\n",
       "    <tr>\n",
       "      <th>2</th>\n",
       "      <td>1</td>\n",
       "      <td>3</td>\n",
       "      <td>female</td>\n",
       "      <td>26.0</td>\n",
       "      <td>0</td>\n",
       "      <td>0</td>\n",
       "      <td>NaN</td>\n",
       "      <td>S</td>\n",
       "    </tr>\n",
       "    <tr>\n",
       "      <th>3</th>\n",
       "      <td>1</td>\n",
       "      <td>1</td>\n",
       "      <td>female</td>\n",
       "      <td>35.0</td>\n",
       "      <td>1</td>\n",
       "      <td>0</td>\n",
       "      <td>C123</td>\n",
       "      <td>S</td>\n",
       "    </tr>\n",
       "    <tr>\n",
       "      <th>4</th>\n",
       "      <td>0</td>\n",
       "      <td>3</td>\n",
       "      <td>male</td>\n",
       "      <td>35.0</td>\n",
       "      <td>0</td>\n",
       "      <td>0</td>\n",
       "      <td>NaN</td>\n",
       "      <td>S</td>\n",
       "    </tr>\n",
       "  </tbody>\n",
       "</table>\n",
       "</div>"
      ],
      "text/plain": [
       "   Survived  Pclass     Sex   Age  SibSp  Parch Cabin Embarked\n",
       "0         0       3    male  22.0      1      0   NaN        S\n",
       "1         1       1  female  38.0      1      0   C85        C\n",
       "2         1       3  female  26.0      0      0   NaN        S\n",
       "3         1       1  female  35.0      1      0  C123        S\n",
       "4         0       3    male  35.0      0      0   NaN        S"
      ]
     },
     "execution_count": 229,
     "metadata": {},
     "output_type": "execute_result"
    }
   ],
   "source": [
    "data.head()"
   ]
  },
  {
   "cell_type": "markdown",
   "id": "c99e2a57",
   "metadata": {},
   "source": [
    "Maintenant encodant notre dataset"
   ]
  },
  {
   "cell_type": "code",
   "execution_count": 230,
   "id": "abadf09d",
   "metadata": {},
   "outputs": [],
   "source": [
    "cat_variables = [\n",
    "    'Sex','Pclass','Cabin','Embarked'\n",
    "]\n",
    "#cat_variables = [\n",
    "#    'Sex','Pclass'\n",
    "#]"
   ]
  },
  {
   "cell_type": "code",
   "execution_count": 231,
   "id": "b6a00c5c",
   "metadata": {},
   "outputs": [
    {
     "data": {
      "text/html": [
       "<div>\n",
       "<style scoped>\n",
       "    .dataframe tbody tr th:only-of-type {\n",
       "        vertical-align: middle;\n",
       "    }\n",
       "\n",
       "    .dataframe tbody tr th {\n",
       "        vertical-align: top;\n",
       "    }\n",
       "\n",
       "    .dataframe thead th {\n",
       "        text-align: right;\n",
       "    }\n",
       "</style>\n",
       "<table border=\"1\" class=\"dataframe\">\n",
       "  <thead>\n",
       "    <tr style=\"text-align: right;\">\n",
       "      <th></th>\n",
       "      <th>Survived</th>\n",
       "      <th>Age</th>\n",
       "      <th>SibSp</th>\n",
       "      <th>Parch</th>\n",
       "      <th>Sex_female</th>\n",
       "      <th>Sex_male</th>\n",
       "      <th>Pclass_1</th>\n",
       "      <th>Pclass_2</th>\n",
       "      <th>Pclass_3</th>\n",
       "      <th>Cabin_A10</th>\n",
       "      <th>...</th>\n",
       "      <th>Cabin_F G73</th>\n",
       "      <th>Cabin_F2</th>\n",
       "      <th>Cabin_F33</th>\n",
       "      <th>Cabin_F38</th>\n",
       "      <th>Cabin_F4</th>\n",
       "      <th>Cabin_G6</th>\n",
       "      <th>Cabin_T</th>\n",
       "      <th>Embarked_C</th>\n",
       "      <th>Embarked_Q</th>\n",
       "      <th>Embarked_S</th>\n",
       "    </tr>\n",
       "  </thead>\n",
       "  <tbody>\n",
       "    <tr>\n",
       "      <th>0</th>\n",
       "      <td>0</td>\n",
       "      <td>22.0</td>\n",
       "      <td>1</td>\n",
       "      <td>0</td>\n",
       "      <td>False</td>\n",
       "      <td>True</td>\n",
       "      <td>False</td>\n",
       "      <td>False</td>\n",
       "      <td>True</td>\n",
       "      <td>False</td>\n",
       "      <td>...</td>\n",
       "      <td>False</td>\n",
       "      <td>False</td>\n",
       "      <td>False</td>\n",
       "      <td>False</td>\n",
       "      <td>False</td>\n",
       "      <td>False</td>\n",
       "      <td>False</td>\n",
       "      <td>False</td>\n",
       "      <td>False</td>\n",
       "      <td>True</td>\n",
       "    </tr>\n",
       "    <tr>\n",
       "      <th>1</th>\n",
       "      <td>1</td>\n",
       "      <td>38.0</td>\n",
       "      <td>1</td>\n",
       "      <td>0</td>\n",
       "      <td>True</td>\n",
       "      <td>False</td>\n",
       "      <td>True</td>\n",
       "      <td>False</td>\n",
       "      <td>False</td>\n",
       "      <td>False</td>\n",
       "      <td>...</td>\n",
       "      <td>False</td>\n",
       "      <td>False</td>\n",
       "      <td>False</td>\n",
       "      <td>False</td>\n",
       "      <td>False</td>\n",
       "      <td>False</td>\n",
       "      <td>False</td>\n",
       "      <td>True</td>\n",
       "      <td>False</td>\n",
       "      <td>False</td>\n",
       "    </tr>\n",
       "    <tr>\n",
       "      <th>2</th>\n",
       "      <td>1</td>\n",
       "      <td>26.0</td>\n",
       "      <td>0</td>\n",
       "      <td>0</td>\n",
       "      <td>True</td>\n",
       "      <td>False</td>\n",
       "      <td>False</td>\n",
       "      <td>False</td>\n",
       "      <td>True</td>\n",
       "      <td>False</td>\n",
       "      <td>...</td>\n",
       "      <td>False</td>\n",
       "      <td>False</td>\n",
       "      <td>False</td>\n",
       "      <td>False</td>\n",
       "      <td>False</td>\n",
       "      <td>False</td>\n",
       "      <td>False</td>\n",
       "      <td>False</td>\n",
       "      <td>False</td>\n",
       "      <td>True</td>\n",
       "    </tr>\n",
       "    <tr>\n",
       "      <th>3</th>\n",
       "      <td>1</td>\n",
       "      <td>35.0</td>\n",
       "      <td>1</td>\n",
       "      <td>0</td>\n",
       "      <td>True</td>\n",
       "      <td>False</td>\n",
       "      <td>True</td>\n",
       "      <td>False</td>\n",
       "      <td>False</td>\n",
       "      <td>False</td>\n",
       "      <td>...</td>\n",
       "      <td>False</td>\n",
       "      <td>False</td>\n",
       "      <td>False</td>\n",
       "      <td>False</td>\n",
       "      <td>False</td>\n",
       "      <td>False</td>\n",
       "      <td>False</td>\n",
       "      <td>False</td>\n",
       "      <td>False</td>\n",
       "      <td>True</td>\n",
       "    </tr>\n",
       "    <tr>\n",
       "      <th>4</th>\n",
       "      <td>0</td>\n",
       "      <td>35.0</td>\n",
       "      <td>0</td>\n",
       "      <td>0</td>\n",
       "      <td>False</td>\n",
       "      <td>True</td>\n",
       "      <td>False</td>\n",
       "      <td>False</td>\n",
       "      <td>True</td>\n",
       "      <td>False</td>\n",
       "      <td>...</td>\n",
       "      <td>False</td>\n",
       "      <td>False</td>\n",
       "      <td>False</td>\n",
       "      <td>False</td>\n",
       "      <td>False</td>\n",
       "      <td>False</td>\n",
       "      <td>False</td>\n",
       "      <td>False</td>\n",
       "      <td>False</td>\n",
       "      <td>True</td>\n",
       "    </tr>\n",
       "  </tbody>\n",
       "</table>\n",
       "<p>5 rows × 159 columns</p>\n",
       "</div>"
      ],
      "text/plain": [
       "   Survived   Age  SibSp  Parch  Sex_female  Sex_male  Pclass_1  Pclass_2  \\\n",
       "0         0  22.0      1      0       False      True     False     False   \n",
       "1         1  38.0      1      0        True     False      True     False   \n",
       "2         1  26.0      0      0        True     False     False     False   \n",
       "3         1  35.0      1      0        True     False      True     False   \n",
       "4         0  35.0      0      0       False      True     False     False   \n",
       "\n",
       "   Pclass_3  Cabin_A10  ...  Cabin_F G73  Cabin_F2  Cabin_F33  Cabin_F38  \\\n",
       "0      True      False  ...        False     False      False      False   \n",
       "1     False      False  ...        False     False      False      False   \n",
       "2      True      False  ...        False     False      False      False   \n",
       "3     False      False  ...        False     False      False      False   \n",
       "4      True      False  ...        False     False      False      False   \n",
       "\n",
       "   Cabin_F4  Cabin_G6  Cabin_T  Embarked_C  Embarked_Q  Embarked_S  \n",
       "0     False     False    False       False       False        True  \n",
       "1     False     False    False        True       False       False  \n",
       "2     False     False    False       False       False        True  \n",
       "3     False     False    False       False       False        True  \n",
       "4     False     False    False       False       False        True  \n",
       "\n",
       "[5 rows x 159 columns]"
      ]
     },
     "execution_count": 231,
     "metadata": {},
     "output_type": "execute_result"
    }
   ],
   "source": [
    "data_hot = pd.get_dummies(data = data,\n",
    "                         prefix = cat_variables,\n",
    "                         columns = cat_variables)\n",
    "data_hot['Age'] = data_hot['Age'].fillna(data_hot['Age'].median())\n",
    "data_hot.head()"
   ]
  },
  {
   "cell_type": "markdown",
   "id": "8c0b7ae3",
   "metadata": {},
   "source": [
    "Nous remarquons ici qu'apres l'encodage one-hot, le nombre de colomne a augmenter de 159. Cela est du a la colomne Cabin. Ceci peut provoquer un surajustement.\n",
    "\n",
    "Pour eviter cela, nous allons juste diviser en deux colomnes: s'il n'y a pas de valeurs alors on mettra false sinon on mettra true"
   ]
  },
  {
   "cell_type": "code",
   "execution_count": 232,
   "id": "e73857eb",
   "metadata": {},
   "outputs": [
    {
     "name": "stdout",
     "output_type": "stream",
     "text": [
      "Survived\n",
      "0    481\n",
      "1    206\n",
      "Name: count, dtype: int64\n",
      "Survived\n",
      "1    136\n",
      "0     68\n",
      "Name: count, dtype: int64\n",
      "Survived\n",
      "0    125\n",
      "1     52\n",
      "Name: count, dtype: int64\n",
      "Survived\n",
      "0    424\n",
      "1    290\n",
      "Name: count, dtype: int64\n"
     ]
    }
   ],
   "source": [
    "resultatNa = data.query('Cabin.isna()')\n",
    "resultatNonNa = data.query('Cabin.notna()')\n",
    "comptageNa = resultatNa['Survived'].value_counts()\n",
    "comptageNonNa = resultatNonNa['Survived'].value_counts()\n",
    "print(comptageNa)\n",
    "print(comptageNonNa)\n",
    "resultatNa = data.query('Age.isna()')\n",
    "resultatNonNa = data.query('Age.notna()')\n",
    "comptageNa = resultatNa['Survived'].value_counts()\n",
    "comptageNonNa = resultatNonNa['Survived'].value_counts()\n",
    "print(comptageNa)\n",
    "print(comptageNonNa)"
   ]
  },
  {
   "cell_type": "code",
   "execution_count": 233,
   "id": "df9855db",
   "metadata": {},
   "outputs": [
    {
     "data": {
      "text/html": [
       "<div>\n",
       "<style scoped>\n",
       "    .dataframe tbody tr th:only-of-type {\n",
       "        vertical-align: middle;\n",
       "    }\n",
       "\n",
       "    .dataframe tbody tr th {\n",
       "        vertical-align: top;\n",
       "    }\n",
       "\n",
       "    .dataframe thead th {\n",
       "        text-align: right;\n",
       "    }\n",
       "</style>\n",
       "<table border=\"1\" class=\"dataframe\">\n",
       "  <thead>\n",
       "    <tr style=\"text-align: right;\">\n",
       "      <th></th>\n",
       "      <th>Survived</th>\n",
       "      <th>Pclass</th>\n",
       "      <th>Sex</th>\n",
       "      <th>Age</th>\n",
       "      <th>SibSp</th>\n",
       "      <th>Parch</th>\n",
       "      <th>Cabin</th>\n",
       "      <th>Embarked</th>\n",
       "    </tr>\n",
       "  </thead>\n",
       "  <tbody>\n",
       "    <tr>\n",
       "      <th>0</th>\n",
       "      <td>0</td>\n",
       "      <td>3</td>\n",
       "      <td>male</td>\n",
       "      <td>22.0</td>\n",
       "      <td>1</td>\n",
       "      <td>0</td>\n",
       "      <td>False</td>\n",
       "      <td>S</td>\n",
       "    </tr>\n",
       "    <tr>\n",
       "      <th>1</th>\n",
       "      <td>1</td>\n",
       "      <td>1</td>\n",
       "      <td>female</td>\n",
       "      <td>38.0</td>\n",
       "      <td>1</td>\n",
       "      <td>0</td>\n",
       "      <td>True</td>\n",
       "      <td>C</td>\n",
       "    </tr>\n",
       "    <tr>\n",
       "      <th>2</th>\n",
       "      <td>1</td>\n",
       "      <td>3</td>\n",
       "      <td>female</td>\n",
       "      <td>26.0</td>\n",
       "      <td>0</td>\n",
       "      <td>0</td>\n",
       "      <td>False</td>\n",
       "      <td>S</td>\n",
       "    </tr>\n",
       "    <tr>\n",
       "      <th>3</th>\n",
       "      <td>1</td>\n",
       "      <td>1</td>\n",
       "      <td>female</td>\n",
       "      <td>35.0</td>\n",
       "      <td>1</td>\n",
       "      <td>0</td>\n",
       "      <td>True</td>\n",
       "      <td>S</td>\n",
       "    </tr>\n",
       "    <tr>\n",
       "      <th>4</th>\n",
       "      <td>0</td>\n",
       "      <td>3</td>\n",
       "      <td>male</td>\n",
       "      <td>35.0</td>\n",
       "      <td>0</td>\n",
       "      <td>0</td>\n",
       "      <td>False</td>\n",
       "      <td>S</td>\n",
       "    </tr>\n",
       "  </tbody>\n",
       "</table>\n",
       "</div>"
      ],
      "text/plain": [
       "   Survived  Pclass     Sex   Age  SibSp  Parch  Cabin Embarked\n",
       "0         0       3    male  22.0      1      0  False        S\n",
       "1         1       1  female  38.0      1      0   True        C\n",
       "2         1       3  female  26.0      0      0  False        S\n",
       "3         1       1  female  35.0      1      0   True        S\n",
       "4         0       3    male  35.0      0      0  False        S"
      ]
     },
     "execution_count": 233,
     "metadata": {},
     "output_type": "execute_result"
    }
   ],
   "source": [
    "# Utilisation de mask() pour remplacer toutes les valeurs non Nan par True\n",
    "data['Cabin'] = data['Cabin'].mask(data['Cabin'].notna(),True)\n",
    "#Remplacer toutes les valeurs Nan en False\n",
    "data['Cabin'] = data['Cabin'].fillna(False)\n",
    "data_mean = data['Age'].mean()\n",
    "data['Age'] = data['Age'].fillna(data_mean)\n",
    "data.head()"
   ]
  },
  {
   "cell_type": "markdown",
   "id": "b37dca74",
   "metadata": {},
   "source": [
    "Maintenant nous pouvons recommancer l'encodage"
   ]
  },
  {
   "cell_type": "code",
   "execution_count": 234,
   "id": "216efa94",
   "metadata": {},
   "outputs": [
    {
     "data": {
      "text/html": [
       "<div>\n",
       "<style scoped>\n",
       "    .dataframe tbody tr th:only-of-type {\n",
       "        vertical-align: middle;\n",
       "    }\n",
       "\n",
       "    .dataframe tbody tr th {\n",
       "        vertical-align: top;\n",
       "    }\n",
       "\n",
       "    .dataframe thead th {\n",
       "        text-align: right;\n",
       "    }\n",
       "</style>\n",
       "<table border=\"1\" class=\"dataframe\">\n",
       "  <thead>\n",
       "    <tr style=\"text-align: right;\">\n",
       "      <th></th>\n",
       "      <th>Survived</th>\n",
       "      <th>Age</th>\n",
       "      <th>SibSp</th>\n",
       "      <th>Parch</th>\n",
       "      <th>Cabin</th>\n",
       "      <th>Sex_female</th>\n",
       "      <th>Sex_male</th>\n",
       "      <th>Embarked_C</th>\n",
       "      <th>Embarked_Q</th>\n",
       "      <th>Embarked_S</th>\n",
       "      <th>Pclass_1</th>\n",
       "      <th>Pclass_2</th>\n",
       "      <th>Pclass_3</th>\n",
       "    </tr>\n",
       "  </thead>\n",
       "  <tbody>\n",
       "    <tr>\n",
       "      <th>0</th>\n",
       "      <td>0</td>\n",
       "      <td>22.0</td>\n",
       "      <td>1</td>\n",
       "      <td>0</td>\n",
       "      <td>False</td>\n",
       "      <td>False</td>\n",
       "      <td>True</td>\n",
       "      <td>False</td>\n",
       "      <td>False</td>\n",
       "      <td>True</td>\n",
       "      <td>False</td>\n",
       "      <td>False</td>\n",
       "      <td>True</td>\n",
       "    </tr>\n",
       "    <tr>\n",
       "      <th>1</th>\n",
       "      <td>1</td>\n",
       "      <td>38.0</td>\n",
       "      <td>1</td>\n",
       "      <td>0</td>\n",
       "      <td>True</td>\n",
       "      <td>True</td>\n",
       "      <td>False</td>\n",
       "      <td>True</td>\n",
       "      <td>False</td>\n",
       "      <td>False</td>\n",
       "      <td>True</td>\n",
       "      <td>False</td>\n",
       "      <td>False</td>\n",
       "    </tr>\n",
       "    <tr>\n",
       "      <th>2</th>\n",
       "      <td>1</td>\n",
       "      <td>26.0</td>\n",
       "      <td>0</td>\n",
       "      <td>0</td>\n",
       "      <td>False</td>\n",
       "      <td>True</td>\n",
       "      <td>False</td>\n",
       "      <td>False</td>\n",
       "      <td>False</td>\n",
       "      <td>True</td>\n",
       "      <td>False</td>\n",
       "      <td>False</td>\n",
       "      <td>True</td>\n",
       "    </tr>\n",
       "    <tr>\n",
       "      <th>3</th>\n",
       "      <td>1</td>\n",
       "      <td>35.0</td>\n",
       "      <td>1</td>\n",
       "      <td>0</td>\n",
       "      <td>True</td>\n",
       "      <td>True</td>\n",
       "      <td>False</td>\n",
       "      <td>False</td>\n",
       "      <td>False</td>\n",
       "      <td>True</td>\n",
       "      <td>True</td>\n",
       "      <td>False</td>\n",
       "      <td>False</td>\n",
       "    </tr>\n",
       "    <tr>\n",
       "      <th>4</th>\n",
       "      <td>0</td>\n",
       "      <td>35.0</td>\n",
       "      <td>0</td>\n",
       "      <td>0</td>\n",
       "      <td>False</td>\n",
       "      <td>False</td>\n",
       "      <td>True</td>\n",
       "      <td>False</td>\n",
       "      <td>False</td>\n",
       "      <td>True</td>\n",
       "      <td>False</td>\n",
       "      <td>False</td>\n",
       "      <td>True</td>\n",
       "    </tr>\n",
       "  </tbody>\n",
       "</table>\n",
       "</div>"
      ],
      "text/plain": [
       "   Survived   Age  SibSp  Parch  Cabin  Sex_female  Sex_male  Embarked_C  \\\n",
       "0         0  22.0      1      0  False       False      True       False   \n",
       "1         1  38.0      1      0   True        True     False        True   \n",
       "2         1  26.0      0      0  False        True     False       False   \n",
       "3         1  35.0      1      0   True        True     False       False   \n",
       "4         0  35.0      0      0  False       False      True       False   \n",
       "\n",
       "   Embarked_Q  Embarked_S  Pclass_1  Pclass_2  Pclass_3  \n",
       "0       False        True     False     False      True  \n",
       "1       False       False      True     False     False  \n",
       "2       False        True     False     False      True  \n",
       "3       False        True      True     False     False  \n",
       "4       False        True     False     False      True  "
      ]
     },
     "execution_count": 234,
     "metadata": {},
     "output_type": "execute_result"
    }
   ],
   "source": [
    "cat_variables = [\n",
    "    'Sex','Embarked','Pclass'\n",
    "]\n",
    "#cat_variables = [\n",
    "#    'Sex','Pclass'\n",
    "#]\n",
    "data_hot = pd.get_dummies(data = data,\n",
    "                         prefix = cat_variables,\n",
    "                         columns = cat_variables)\n",
    "data_hot.head()"
   ]
  },
  {
   "cell_type": "markdown",
   "id": "894971cf",
   "metadata": {},
   "source": [
    "Nous allons maintenant definir notre xTrain ou notre ensemble de donnee qu'on va utiliser pour la prediction"
   ]
  },
  {
   "cell_type": "code",
   "execution_count": 235,
   "id": "25e77fdf",
   "metadata": {},
   "outputs": [],
   "source": [
    "var = [x for x in data_hot.columns if x not in 'Survived'] ## Removing our target variable"
   ]
  },
  {
   "cell_type": "code",
   "execution_count": 236,
   "id": "e06be60b",
   "metadata": {},
   "outputs": [
    {
     "name": "stdout",
     "output_type": "stream",
     "text": [
      "12\n"
     ]
    }
   ],
   "source": [
    "print(len(var))"
   ]
  },
  {
   "cell_type": "markdown",
   "id": "5c249dbb",
   "metadata": {},
   "source": [
    "# 3. Splitting the Dataset\n",
    "\n",
    "Dans cette section, nous diviserons notre ensemble de données en ensembles de données d'entraînement et de test. Nous utiliserons la fonction `train_test_split` de Scikit-learn."
   ]
  },
  {
   "cell_type": "code",
   "execution_count": 237,
   "id": "99b16e38",
   "metadata": {},
   "outputs": [],
   "source": [
    "X_train, X_test, y_train, y_test = train_test_split(data_hot[var], data_hot['Survived'], train_size = 0.8, random_state = RANDOM_STATE)"
   ]
  },
  {
   "cell_type": "code",
   "execution_count": 238,
   "id": "11ccfb12",
   "metadata": {},
   "outputs": [
    {
     "name": "stdout",
     "output_type": "stream",
     "text": [
      "train samples: 712\n",
      "test samples: 179\n",
      "target proportion: 0.3834\n"
     ]
    }
   ],
   "source": [
    "print(f'train samples: {len(X_train)}\\ntest samples: {len(X_test)}')\n",
    "print(f'target proportion: {sum(y_train)/len(y_train):.4f}')"
   ]
  },
  {
   "cell_type": "markdown",
   "id": "8a07eb2e",
   "metadata": {},
   "source": [
    "# 4. Construisons les modeles\n",
    "\n",
    "## 4.1 Decision Tree\n",
    "Dans cette section, travaillons avec l'arbre de décision , mais en utilisant maintenant l'[implémentation de Scikit-learn](https://scikit-learn.org/stable/modules/generated/sklearn.tree.DecisionTreeClassifier.html). \n",
    "Les hyperparamètres que nous utiliserons et étudierons ici sont :\n",
    "\n",
    " - min_samples_split : Le nombre minimum d'échantillons requis pour diviser un nœud interne. Cela peut empêcher le surapprentissage.\n",
    " - max_degree : La profondeur maximale de l'arborescence. Cela peut empêcher le surapprentissage."
   ]
  },
  {
   "cell_type": "code",
   "execution_count": 239,
   "id": "c8e850f5",
   "metadata": {},
   "outputs": [],
   "source": [
    "min_samples_split_list = [2,10, 30, 50, 100, 200, 300, 700] ## Si le nombre est un nombre entier, alors c'est la quantité réelle d'échantillons,\n",
    "max_depth_list = [1,2, 3, 4, 8, 16, 32, 64, None] # None signifie qu'il n'y a pas de limite de profondeur."
   ]
  },
  {
   "cell_type": "code",
   "execution_count": 240,
   "id": "4331ef1a",
   "metadata": {},
   "outputs": [
    {
     "data": {
      "text/plain": [
       "<matplotlib.legend.Legend at 0x130b4d71bd0>"
      ]
     },
     "execution_count": 240,
     "metadata": {},
     "output_type": "execute_result"
    },
    {
     "data": {
      "image/png": "[encoded data removed]",
      "text/plain": [
       "<Figure size 640x480 with 1 Axes>"
      ]
     },
     "metadata": {},
     "output_type": "display_data"
    }
   ],
   "source": [
    "accuracy_list_train = []\n",
    "accuracy_list_test = []\n",
    "for min_samples_split in min_samples_split_list:\n",
    "    # Nous pouvons ajuster le modèle en même temps que nous le définissons, car la fonction d'ajustement renvoie l'estimateur ajusté.\n",
    "    model = DecisionTreeClassifier(min_samples_split = min_samples_split,\n",
    "                                   random_state = RANDOM_STATE).fit(X_train,y_train) \n",
    "    predictions_train = model.predict(X_train) ## Les valeurs prédites pour l'ensemble de données du train\n",
    "    predictions_test = model.predict(X_test) ## Les valeurs prédites pour l'ensemble de données de test\n",
    "    accuracy_train = accuracy_score(predictions_train,y_train)\n",
    "    accuracy_test = accuracy_score(predictions_test,y_test)\n",
    "    accuracy_list_train.append(accuracy_train)\n",
    "    accuracy_list_test.append(accuracy_test)\n",
    "    \n",
    "plt.title('Train x Test metrics')\n",
    "plt.xlabel('min_samples_split')\n",
    "plt.ylabel('accuracy')\n",
    "plt.xticks(ticks = range(len(min_samples_split_list )),labels=min_samples_split_list)\n",
    "plt.plot(accuracy_list_train)\n",
    "plt.plot(accuracy_list_test)\n",
    "plt.legend(['Train','Test'])"
   ]
  },
  {
   "cell_type": "markdown",
   "id": "174d5611",
   "metadata": {},
   "source": [
    "Nous pouvons Noter ici que l'augmentation du nombre de « min_samples_split » diminue le surajustement. \n",
    "\n",
    "Faisons la même expérience avec `max_degree`."
   ]
  },
  {
   "cell_type": "code",
   "execution_count": 241,
   "id": "7337f8e1",
   "metadata": {},
   "outputs": [
    {
     "data": {
      "text/plain": [
       "<matplotlib.legend.Legend at 0x130b5e53910>"
      ]
     },
     "execution_count": 241,
     "metadata": {},
     "output_type": "execute_result"
    },
    {
     "data": {
      "image/png": "[encoded data removed]",
      "text/plain": [
       "<Figure size 640x480 with 1 Axes>"
      ]
     },
     "metadata": {},
     "output_type": "display_data"
    }
   ],
   "source": [
    "accuracy_list_train = []\n",
    "accuracy_list_test = []\n",
    "for max_depth in max_depth_list:\n",
    "    model = DecisionTreeClassifier(max_depth = max_depth,\n",
    "                                   random_state = RANDOM_STATE).fit(X_train,y_train) \n",
    "    predictions_train = model.predict(X_train)\n",
    "    predictions_test = model.predict(X_test)\n",
    "    accuracy_train = accuracy_score(predictions_train,y_train)\n",
    "    accuracy_test = accuracy_score(predictions_test,y_test)\n",
    "    accuracy_list_train.append(accuracy_train)\n",
    "    accuracy_list_test.append(accuracy_test)\n",
    "\n",
    "plt.title('Train x Test metrics')\n",
    "plt.xlabel('max_depth')\n",
    "plt.ylabel('accuracy')\n",
    "plt.xticks(ticks = range(len(max_depth_list )),labels=max_depth_list)\n",
    "plt.plot(accuracy_list_train)\n",
    "plt.plot(accuracy_list_test)\n",
    "plt.legend(['Train','Test'])"
   ]
  },
  {
   "cell_type": "markdown",
   "id": "733379a3",
   "metadata": {},
   "source": [
    "En analysant bien les 2 graphiques, voic les hyperparametres qui correspandent bien a nos donnees\n",
    "- `max_profondeur = 3`\n",
    "- `min_samples_split = 300`"
   ]
  },
  {
   "cell_type": "code",
   "execution_count": 242,
   "id": "7dc2c87c",
   "metadata": {},
   "outputs": [],
   "source": [
    "decision_tree_model = DecisionTreeClassifier(min_samples_split = 100,\n",
    "                                             max_depth = 4,\n",
    "                                             random_state = RANDOM_STATE).fit(X_train,y_train)"
   ]
  },
  {
   "cell_type": "code",
   "execution_count": 243,
   "id": "4bfe164d",
   "metadata": {},
   "outputs": [
    {
     "name": "stdout",
     "output_type": "stream",
     "text": [
      "Metrics train:\n",
      "\tAccuracy score: 0.8146\n",
      "Metrics test:\n",
      "\tAccuracy score: 0.7989\n"
     ]
    }
   ],
   "source": [
    "print(f\"Metrics train:\\n\\tAccuracy score: {accuracy_score(decision_tree_model.predict(X_train),y_train):.4f}\\nMetrics test:\\n\\tAccuracy score: {accuracy_score(decision_tree_model.predict(X_test),y_test):.4f}\")"
   ]
  },
  {
   "cell_type": "markdown",
   "id": "7b4c6c90",
   "metadata": {},
   "source": [
    "Aucun signe de surajustement, même si les mesures ne sont pas très bonnes."
   ]
  },
  {
   "cell_type": "markdown",
   "id": "79f090f7",
   "metadata": {},
   "source": [
    "## 4.2 Random Forest\n",
    "\n",
    "Essayons maintenant également l'algorithme Random Forest, en utilisant l'implémentation Scikit-learn. Naturellement, tous les hyperparamètres ci-dessus existeront dans cet algorithme, puisqu'il ne s'agit que d'un ensemble d'arbres de décision, mais auront un autre hyperparamètre que nous utiliserons, appelé « n_estimators », qui correspond au nombre d'arbres de décision différents qui seront ajustés. \n",
    "\n",
    "Nous exécuterons à nouveau le même script, mais avec un autre paramètre, `n_estimators`, où nous choisirons entre 10, 50 et 100. La valeur par défaut est 100."
   ]
  },
  {
   "cell_type": "code",
   "execution_count": 244,
   "id": "5fcb82a2",
   "metadata": {},
   "outputs": [],
   "source": [
    "min_samples_split_list = [2,10, 30, 50, 100, 200, 300, 700]\n",
    "max_depth_list = [2, 4, 8, 16, 32, 64, None]\n",
    "n_estimators_list = [10,50,100,500]"
   ]
  },
  {
   "cell_type": "code",
   "execution_count": 245,
   "id": "c55acaf4",
   "metadata": {},
   "outputs": [
    {
     "data": {
      "text/plain": [
       "<matplotlib.legend.Legend at 0x130b610de90>"
      ]
     },
     "execution_count": 245,
     "metadata": {},
     "output_type": "execute_result"
    },
    {
     "data": {
      "image/png": "[encoded data removed]",
      "text/plain": [
       "<Figure size 640x480 with 1 Axes>"
      ]
     },
     "metadata": {},
     "output_type": "display_data"
    }
   ],
   "source": [
    "accuracy_list_train = []\n",
    "accuracy_list_test = []\n",
    "for min_samples_split in min_samples_split_list:\n",
    "    model = RandomForestClassifier(min_samples_split = min_samples_split,\n",
    "                                   random_state = RANDOM_STATE).fit(X_train,y_train) \n",
    "    predictions_train = model.predict(X_train)\n",
    "    predictions_test = model.predict(X_test)\n",
    "    accuracy_train = accuracy_score(predictions_train,y_train)\n",
    "    accuracy_test = accuracy_score(predictions_test,y_test)\n",
    "    accuracy_list_train.append(accuracy_train)\n",
    "    accuracy_list_test.append(accuracy_test)\n",
    "\n",
    "plt.title('Train x Test metrics')\n",
    "plt.xlabel('min_samples_split')\n",
    "plt.ylabel('accuracy')\n",
    "plt.xticks(ticks = range(len(min_samples_split_list )),labels=min_samples_split_list) \n",
    "plt.plot(accuracy_list_train)\n",
    "plt.plot(accuracy_list_test)\n",
    "plt.legend(['Train','Test'])"
   ]
  },
  {
   "cell_type": "code",
   "execution_count": 246,
   "id": "d42224a4",
   "metadata": {},
   "outputs": [
    {
     "data": {
      "text/plain": [
       "<matplotlib.legend.Legend at 0x130b616bd90>"
      ]
     },
     "execution_count": 246,
     "metadata": {},
     "output_type": "execute_result"
    },
    {
     "data": {
      "image/png": "[encoded data removed]",
      "text/plain": [
       "<Figure size 640x480 with 1 Axes>"
      ]
     },
     "metadata": {},
     "output_type": "display_data"
    }
   ],
   "source": [
    "accuracy_list_train = []\n",
    "accuracy_list_test = []\n",
    "for max_depth in max_depth_list:\n",
    "    # You can fit the model at the same time you define it, because the fit function returns the fitted estimator.\n",
    "    model = RandomForestClassifier(max_depth = max_depth,\n",
    "                                   random_state = RANDOM_STATE).fit(X_train,y_train) \n",
    "    predictions_train = model.predict(X_train) ## The predicted values for the train dataset\n",
    "    predictions_test = model.predict(X_test) ## The predicted values for the test dataset\n",
    "    accuracy_train = accuracy_score(predictions_train,y_train)\n",
    "    accuracy_test = accuracy_score(predictions_test,y_test)\n",
    "    accuracy_list_train.append(accuracy_train)\n",
    "    accuracy_list_test.append(accuracy_test)\n",
    "\n",
    "plt.title('Train x Test metrics')\n",
    "plt.xlabel('max_depth')\n",
    "plt.ylabel('accuracy')\n",
    "plt.xticks(ticks = range(len(max_depth_list )),labels=max_depth_list)\n",
    "plt.plot(accuracy_list_train)\n",
    "plt.plot(accuracy_list_test)\n",
    "plt.legend(['Train','Test'])"
   ]
  },
  {
   "cell_type": "code",
   "execution_count": 247,
   "id": "4b14ca1c",
   "metadata": {},
   "outputs": [
    {
     "data": {
      "text/plain": [
       "<matplotlib.legend.Legend at 0x130b62f0910>"
      ]
     },
     "execution_count": 247,
     "metadata": {},
     "output_type": "execute_result"
    },
    {
     "data": {
      "image/png": "[encoded data removed]",
      "text/plain": [
       "<Figure size 640x480 with 1 Axes>"
      ]
     },
     "metadata": {},
     "output_type": "display_data"
    }
   ],
   "source": [
    "accuracy_list_train = []\n",
    "accuracy_list_test = []\n",
    "for n_estimators in n_estimators_list:\n",
    "    # You can fit the model at the same time you define it, because the fit function returns the fitted estimator.\n",
    "    model = RandomForestClassifier(n_estimators = n_estimators,\n",
    "                                   random_state = RANDOM_STATE).fit(X_train,y_train) \n",
    "    predictions_train = model.predict(X_train) ## The predicted values for the train dataset\n",
    "    predictions_test = model.predict(X_test) ## The predicted values for the test dataset\n",
    "    accuracy_train = accuracy_score(predictions_train,y_train)\n",
    "    accuracy_test = accuracy_score(predictions_test,y_test)\n",
    "    accuracy_list_train.append(accuracy_train)\n",
    "    accuracy_list_test.append(accuracy_test)\n",
    "\n",
    "plt.title('Train x Test metrics')\n",
    "plt.xlabel('n_estimators')\n",
    "plt.ylabel('accuracy')\n",
    "plt.xticks(ticks = range(len(n_estimators_list )),labels=n_estimators_list)\n",
    "plt.plot(accuracy_list_train)\n",
    "plt.plot(accuracy_list_test)\n",
    "plt.legend(['Train','Test'])"
   ]
  },
  {
   "cell_type": "markdown",
   "id": "d54833e2",
   "metadata": {},
   "source": [
    "Ajustons ensuite une forêt aléatoire avec les paramètres suivants :\n",
    "\n",
    " - profondeur_max : 8\n",
    " - min_samples_split : 300\n",
    " - n_estimateurs : 50"
   ]
  },
  {
   "cell_type": "code",
   "execution_count": 248,
   "id": "51866388",
   "metadata": {},
   "outputs": [],
   "source": [
    "random_forest_model = RandomForestClassifier(n_estimators = 50,\n",
    "                                             max_depth = 8, \n",
    "                                             min_samples_split = 300).fit(X_train,y_train)"
   ]
  },
  {
   "cell_type": "code",
   "execution_count": 249,
   "id": "9d7f6fa2",
   "metadata": {},
   "outputs": [
    {
     "name": "stdout",
     "output_type": "stream",
     "text": [
      "Metrics train:\n",
      "\tAccuracy score: 0.7879\n",
      "Metrics test:\n",
      "\tAccuracy score: 0.7821\n"
     ]
    }
   ],
   "source": [
    "print(f\"Metrics train:\\n\\tAccuracy score: {accuracy_score(random_forest_model.predict(X_train),y_train):.4f}\\nMetrics test:\\n\\tAccuracy score: {accuracy_score(random_forest_model.predict(X_test),y_test):.4f}\")"
   ]
  },
  {
   "cell_type": "markdown",
   "id": "df81c6f6",
   "metadata": {},
   "source": [
    "## 4.3 XGBoost\n",
    "\n",
    "Le dernier modele que  nous allons utiliser est le modèle Gradient Boosting, appelé XGBoost. Les méthodes de boosting entraînent plusieurs arbres, mais au lieu de les corréler les uns aux autres, les arbres sont désormais ajustés ultérieurement pour minimiser l'erreur."
   ]
  },
  {
   "cell_type": "markdown",
   "id": "e3835365",
   "metadata": {},
   "source": [
    "Tout d’abord, définissons un sous-ensemble de notre ensemble de formation (nous ne devrions pas utiliser l’ensemble de test ici)."
   ]
  },
  {
   "cell_type": "code",
   "execution_count": 250,
   "id": "9e20a746",
   "metadata": {},
   "outputs": [],
   "source": [
    "n = int(len(X_train)*0.8) ## Let's use 80% to train and 20% to eval"
   ]
  },
  {
   "cell_type": "code",
   "execution_count": 251,
   "id": "ddf576a7",
   "metadata": {},
   "outputs": [],
   "source": [
    "X_train_fit, X_train_eval, y_train_fit, y_train_eval = X_train[:n], X_train[n:], y_train[:n], y_train[n:]"
   ]
  },
  {
   "cell_type": "markdown",
   "id": "0561a2c5",
   "metadata": {},
   "source": [
    "Nous pouvons alors définir un grand nombre d'estimateurs, car vous pouvez vous arrêter si la fonction de coût cesse de diminuer."
   ]
  },
  {
   "cell_type": "code",
   "execution_count": 252,
   "id": "81cfaabc",
   "metadata": {},
   "outputs": [
    {
     "name": "stdout",
     "output_type": "stream",
     "text": [
      "[0]\tvalidation_0-logloss:0.62360\n",
      "[1]\tvalidation_0-logloss:0.58678\n",
      "[2]\tvalidation_0-logloss:0.55619\n",
      "[3]\tvalidation_0-logloss:0.53140\n",
      "[4]\tvalidation_0-logloss:0.51006\n",
      "[5]\tvalidation_0-logloss:0.49351\n",
      "[6]\tvalidation_0-logloss:0.47821\n",
      "[7]\tvalidation_0-logloss:0.46509\n",
      "[8]\tvalidation_0-logloss:0.45455\n",
      "[9]\tvalidation_0-logloss:0.44448\n",
      "[10]\tvalidation_0-logloss:0.43472\n",
      "[11]\tvalidation_0-logloss:0.42954\n",
      "[12]\tvalidation_0-logloss:0.42306\n",
      "[13]\tvalidation_0-logloss:0.41958\n",
      "[14]\tvalidation_0-logloss:0.41519\n",
      "[15]\tvalidation_0-logloss:0.41205\n",
      "[16]\tvalidation_0-logloss:0.40957\n",
      "[17]\tvalidation_0-logloss:0.40768\n",
      "[18]\tvalidation_0-logloss:0.40547\n",
      "[19]\tvalidation_0-logloss:0.40392\n",
      "[20]\tvalidation_0-logloss:0.40463\n",
      "[21]\tvalidation_0-logloss:0.40528\n",
      "[22]\tvalidation_0-logloss:0.40383\n",
      "[23]\tvalidation_0-logloss:0.40466\n",
      "[24]\tvalidation_0-logloss:0.40449\n",
      "[25]\tvalidation_0-logloss:0.40531\n",
      "[26]\tvalidation_0-logloss:0.40593\n",
      "[27]\tvalidation_0-logloss:0.40487\n",
      "[28]\tvalidation_0-logloss:0.40481\n",
      "[29]\tvalidation_0-logloss:0.40685\n",
      "[30]\tvalidation_0-logloss:0.40717\n",
      "[31]\tvalidation_0-logloss:0.40688\n",
      "[32]\tvalidation_0-logloss:0.40591\n",
      "[33]\tvalidation_0-logloss:0.40643\n",
      "[34]\tvalidation_0-logloss:0.40591\n",
      "[35]\tvalidation_0-logloss:0.40660\n",
      "[36]\tvalidation_0-logloss:0.40633\n",
      "[37]\tvalidation_0-logloss:0.40631\n",
      "[38]\tvalidation_0-logloss:0.40638\n",
      "[39]\tvalidation_0-logloss:0.40819\n",
      "[40]\tvalidation_0-logloss:0.40882\n",
      "[41]\tvalidation_0-logloss:0.40948\n",
      "[42]\tvalidation_0-logloss:0.41071\n",
      "[43]\tvalidation_0-logloss:0.41024\n",
      "[44]\tvalidation_0-logloss:0.41092\n",
      "[45]\tvalidation_0-logloss:0.41377\n",
      "[46]\tvalidation_0-logloss:0.41405\n",
      "[47]\tvalidation_0-logloss:0.41379\n",
      "[48]\tvalidation_0-logloss:0.41360\n",
      "[49]\tvalidation_0-logloss:0.41417\n",
      "[50]\tvalidation_0-logloss:0.41678\n",
      "[51]\tvalidation_0-logloss:0.41670\n",
      "[52]\tvalidation_0-logloss:0.41714\n",
      "[53]\tvalidation_0-logloss:0.41538\n",
      "[54]\tvalidation_0-logloss:0.41586\n",
      "[55]\tvalidation_0-logloss:0.41586\n",
      "[56]\tvalidation_0-logloss:0.41592\n",
      "[57]\tvalidation_0-logloss:0.41665\n",
      "[58]\tvalidation_0-logloss:0.41682\n",
      "[59]\tvalidation_0-logloss:0.41810\n",
      "[60]\tvalidation_0-logloss:0.41890\n",
      "[61]\tvalidation_0-logloss:0.41911\n",
      "[62]\tvalidation_0-logloss:0.41933\n",
      "[63]\tvalidation_0-logloss:0.42018\n",
      "[64]\tvalidation_0-logloss:0.42052\n"
     ]
    },
    {
     "name": "stderr",
     "output_type": "stream",
     "text": [
      "C:\\Users\\rsjas\\anaconda3\\Lib\\site-packages\\xgboost\\sklearn.py:889: UserWarning: `early_stopping_rounds` in `fit` method is deprecated for better compatibility with scikit-learn, use `early_stopping_rounds` in constructor or`set_params` instead.\n",
      "  warnings.warn(\n"
     ]
    },
    {
     "name": "stdout",
     "output_type": "stream",
     "text": [
      "[65]\tvalidation_0-logloss:0.42095\n",
      "[66]\tvalidation_0-logloss:0.42187\n",
      "[67]\tvalidation_0-logloss:0.42395\n",
      "[68]\tvalidation_0-logloss:0.42634\n",
      "[69]\tvalidation_0-logloss:0.42657\n",
      "[70]\tvalidation_0-logloss:0.42781\n",
      "[71]\tvalidation_0-logloss:0.42859\n",
      "[72]\tvalidation_0-logloss:0.42798\n"
     ]
    },
    {
     "data": {
      "text/html": [
       "<style>#sk-container-id-6 {color: black;background-color: white;}#sk-container-id-6 pre{padding: 0;}#sk-container-id-6 div.sk-toggleable {background-color: white;}#sk-container-id-6 label.sk-toggleable__label {cursor: pointer;display: block;width: 100%;margin-bottom: 0;padding: 0.3em;box-sizing: border-box;text-align: center;}#sk-container-id-6 label.sk-toggleable__label-arrow:before {content: \"▸\";float: left;margin-right: 0.25em;color: #696969;}#sk-container-id-6 label.sk-toggleable__label-arrow:hover:before {color: black;}#sk-container-id-6 div.sk-estimator:hover label.sk-toggleable__label-arrow:before {color: black;}#sk-container-id-6 div.sk-toggleable__content {max-height: 0;max-width: 0;overflow: hidden;text-align: left;background-color: #f0f8ff;}#sk-container-id-6 div.sk-toggleable__content pre {margin: 0.2em;color: black;border-radius: 0.25em;background-color: #f0f8ff;}#sk-container-id-6 input.sk-toggleable__control:checked~div.sk-toggleable__content {max-height: 200px;max-width: 100%;overflow: auto;}#sk-container-id-6 input.sk-toggleable__control:checked~label.sk-toggleable__label-arrow:before {content: \"▾\";}#sk-container-id-6 div.sk-estimator input.sk-toggleable__control:checked~label.sk-toggleable__label {background-color: #d4ebff;}#sk-container-id-6 div.sk-label input.sk-toggleable__control:checked~label.sk-toggleable__label {background-color: #d4ebff;}#sk-container-id-6 input.sk-hidden--visually {border: 0;clip: rect(1px 1px 1px 1px);clip: rect(1px, 1px, 1px, 1px);height: 1px;margin: -1px;overflow: hidden;padding: 0;position: absolute;width: 1px;}#sk-container-id-6 div.sk-estimator {font-family: monospace;background-color: #f0f8ff;border: 1px dotted black;border-radius: 0.25em;box-sizing: border-box;margin-bottom: 0.5em;}#sk-container-id-6 div.sk-estimator:hover {background-color: #d4ebff;}#sk-container-id-6 div.sk-parallel-item::after {content: \"\";width: 100%;border-bottom: 1px solid gray;flex-grow: 1;}#sk-container-id-6 div.sk-label:hover label.sk-toggleable__label {background-color: #d4ebff;}#sk-container-id-6 div.sk-serial::before {content: \"\";position: absolute;border-left: 1px solid gray;box-sizing: border-box;top: 0;bottom: 0;left: 50%;z-index: 0;}#sk-container-id-6 div.sk-serial {display: flex;flex-direction: column;align-items: center;background-color: white;padding-right: 0.2em;padding-left: 0.2em;position: relative;}#sk-container-id-6 div.sk-item {position: relative;z-index: 1;}#sk-container-id-6 div.sk-parallel {display: flex;align-items: stretch;justify-content: center;background-color: white;position: relative;}#sk-container-id-6 div.sk-item::before, #sk-container-id-6 div.sk-parallel-item::before {content: \"\";position: absolute;border-left: 1px solid gray;box-sizing: border-box;top: 0;bottom: 0;left: 50%;z-index: -1;}#sk-container-id-6 div.sk-parallel-item {display: flex;flex-direction: column;z-index: 1;position: relative;background-color: white;}#sk-container-id-6 div.sk-parallel-item:first-child::after {align-self: flex-end;width: 50%;}#sk-container-id-6 div.sk-parallel-item:last-child::after {align-self: flex-start;width: 50%;}#sk-container-id-6 div.sk-parallel-item:only-child::after {width: 0;}#sk-container-id-6 div.sk-dashed-wrapped {border: 1px dashed gray;margin: 0 0.4em 0.5em 0.4em;box-sizing: border-box;padding-bottom: 0.4em;background-color: white;}#sk-container-id-6 div.sk-label label {font-family: monospace;font-weight: bold;display: inline-block;line-height: 1.2em;}#sk-container-id-6 div.sk-label-container {text-align: center;}#sk-container-id-6 div.sk-container {/* jupyter's `normalize.less` sets `[hidden] { display: none; }` but bootstrap.min.css set `[hidden] { display: none !important; }` so we also need the `!important` here to be able to override the default hidden behavior on the sphinx rendered scikit-learn.org. See: https://github.com/scikit-learn/scikit-learn/issues/21755 */display: inline-block !important;position: relative;}#sk-container-id-6 div.sk-text-repr-fallback {display: none;}</style><div id=\"sk-container-id-6\" class=\"sk-top-container\"><div class=\"sk-text-repr-fallback\"><pre>XGBClassifier(base_score=None, booster=None, callbacks=None,\n",
       "              colsample_bylevel=None, colsample_bynode=None,\n",
       "              colsample_bytree=None, device=None, early_stopping_rounds=None,\n",
       "              enable_categorical=False, eval_metric=None, feature_types=None,\n",
       "              gamma=None, grow_policy=None, importance_type=None,\n",
       "              interaction_constraints=None, learning_rate=0.1, max_bin=None,\n",
       "              max_cat_threshold=None, max_cat_to_onehot=None,\n",
       "              max_delta_step=None, max_depth=None, max_leaves=None,\n",
       "              min_child_weight=None, missing=nan, monotone_constraints=None,\n",
       "              multi_strategy=None, n_estimators=500, n_jobs=None,\n",
       "              num_parallel_tree=None, random_state=55, ...)</pre><b>In a Jupyter environment, please rerun this cell to show the HTML representation or trust the notebook. <br />On GitHub, the HTML representation is unable to render, please try loading this page with nbviewer.org.</b></div><div class=\"sk-container\" hidden><div class=\"sk-item\"><div class=\"sk-estimator sk-toggleable\"><input class=\"sk-toggleable__control sk-hidden--visually\" id=\"sk-estimator-id-6\" type=\"checkbox\" checked><label for=\"sk-estimator-id-6\" class=\"sk-toggleable__label sk-toggleable__label-arrow\">XGBClassifier</label><div class=\"sk-toggleable__content\"><pre>XGBClassifier(base_score=None, booster=None, callbacks=None,\n",
       "              colsample_bylevel=None, colsample_bynode=None,\n",
       "              colsample_bytree=None, device=None, early_stopping_rounds=None,\n",
       "              enable_categorical=False, eval_metric=None, feature_types=None,\n",
       "              gamma=None, grow_policy=None, importance_type=None,\n",
       "              interaction_constraints=None, learning_rate=0.1, max_bin=None,\n",
       "              max_cat_threshold=None, max_cat_to_onehot=None,\n",
       "              max_delta_step=None, max_depth=None, max_leaves=None,\n",
       "              min_child_weight=None, missing=nan, monotone_constraints=None,\n",
       "              multi_strategy=None, n_estimators=500, n_jobs=None,\n",
       "              num_parallel_tree=None, random_state=55, ...)</pre></div></div></div></div></div>"
      ],
      "text/plain": [
       "XGBClassifier(base_score=None, booster=None, callbacks=None,\n",
       "              colsample_bylevel=None, colsample_bynode=None,\n",
       "              colsample_bytree=None, device=None, early_stopping_rounds=None,\n",
       "              enable_categorical=False, eval_metric=None, feature_types=None,\n",
       "              gamma=None, grow_policy=None, importance_type=None,\n",
       "              interaction_constraints=None, learning_rate=0.1, max_bin=None,\n",
       "              max_cat_threshold=None, max_cat_to_onehot=None,\n",
       "              max_delta_step=None, max_depth=None, max_leaves=None,\n",
       "              min_child_weight=None, missing=nan, monotone_constraints=None,\n",
       "              multi_strategy=None, n_estimators=500, n_jobs=None,\n",
       "              num_parallel_tree=None, random_state=55, ...)"
      ]
     },
     "execution_count": 252,
     "metadata": {},
     "output_type": "execute_result"
    }
   ],
   "source": [
    "xgb_model = XGBClassifier(n_estimators = 500, learning_rate = 0.1,verbosity = 1, random_state = RANDOM_STATE)\n",
    "xgb_model.fit(X_train_fit,y_train_fit, eval_set = [(X_train_eval,y_train_eval)], early_stopping_rounds = 50)"
   ]
  },
  {
   "cell_type": "markdown",
   "id": "549765a3",
   "metadata": {},
   "source": [
    "Comme vous pouvez le constater, même si vous avez réussi à ajuster 500 estimateurs, l'algorithme n'en a ajusté que 79 car la perte log utilisée pour métrifier les cycles de formation a commencé à augmenter. En fait, le nombre d'estimateurs est même inférieur à 79."
   ]
  },
  {
   "cell_type": "code",
   "execution_count": 253,
   "id": "f1183ce6",
   "metadata": {},
   "outputs": [
    {
     "data": {
      "text/plain": [
       "22"
      ]
     },
     "execution_count": 253,
     "metadata": {},
     "output_type": "execute_result"
    }
   ],
   "source": [
    "xgb_model.best_iteration"
   ]
  },
  {
   "cell_type": "code",
   "execution_count": 254,
   "id": "27397174",
   "metadata": {},
   "outputs": [
    {
     "name": "stdout",
     "output_type": "stream",
     "text": [
      "Metrics train:\n",
      "\tAccuracy score: 0.8680\n",
      "Metrics test:\n",
      "\tAccuracy score: 0.8156\n"
     ]
    }
   ],
   "source": [
    "print(f\"Metrics train:\\n\\tAccuracy score: {accuracy_score(xgb_model.predict(X_train),y_train):.4f}\\nMetrics test:\\n\\tAccuracy score: {accuracy_score(xgb_model.predict(X_test),y_test):.4f}\")"
   ]
  },
  {
   "cell_type": "markdown",
   "id": "65a3df2c",
   "metadata": {},
   "source": [
    "### Prédiction avec les données dans test"
   ]
  },
  {
   "cell_type": "code",
   "execution_count": 255,
   "id": "03c1d39f",
   "metadata": {},
   "outputs": [
    {
     "data": {
      "text/html": [
       "<div>\n",
       "<style scoped>\n",
       "    .dataframe tbody tr th:only-of-type {\n",
       "        vertical-align: middle;\n",
       "    }\n",
       "\n",
       "    .dataframe tbody tr th {\n",
       "        vertical-align: top;\n",
       "    }\n",
       "\n",
       "    .dataframe thead th {\n",
       "        text-align: right;\n",
       "    }\n",
       "</style>\n",
       "<table border=\"1\" class=\"dataframe\">\n",
       "  <thead>\n",
       "    <tr style=\"text-align: right;\">\n",
       "      <th></th>\n",
       "      <th>Age</th>\n",
       "      <th>SibSp</th>\n",
       "      <th>Parch</th>\n",
       "      <th>Cabin</th>\n",
       "      <th>Sex_female</th>\n",
       "      <th>Sex_male</th>\n",
       "      <th>Embarked_C</th>\n",
       "      <th>Embarked_Q</th>\n",
       "      <th>Embarked_S</th>\n",
       "      <th>Pclass_1</th>\n",
       "      <th>Pclass_2</th>\n",
       "      <th>Pclass_3</th>\n",
       "    </tr>\n",
       "  </thead>\n",
       "  <tbody>\n",
       "    <tr>\n",
       "      <th>0</th>\n",
       "      <td>34.5</td>\n",
       "      <td>0</td>\n",
       "      <td>0</td>\n",
       "      <td>False</td>\n",
       "      <td>False</td>\n",
       "      <td>True</td>\n",
       "      <td>False</td>\n",
       "      <td>True</td>\n",
       "      <td>False</td>\n",
       "      <td>False</td>\n",
       "      <td>False</td>\n",
       "      <td>True</td>\n",
       "    </tr>\n",
       "    <tr>\n",
       "      <th>1</th>\n",
       "      <td>47.0</td>\n",
       "      <td>1</td>\n",
       "      <td>0</td>\n",
       "      <td>False</td>\n",
       "      <td>True</td>\n",
       "      <td>False</td>\n",
       "      <td>False</td>\n",
       "      <td>False</td>\n",
       "      <td>True</td>\n",
       "      <td>False</td>\n",
       "      <td>False</td>\n",
       "      <td>True</td>\n",
       "    </tr>\n",
       "    <tr>\n",
       "      <th>2</th>\n",
       "      <td>62.0</td>\n",
       "      <td>0</td>\n",
       "      <td>0</td>\n",
       "      <td>False</td>\n",
       "      <td>False</td>\n",
       "      <td>True</td>\n",
       "      <td>False</td>\n",
       "      <td>True</td>\n",
       "      <td>False</td>\n",
       "      <td>False</td>\n",
       "      <td>True</td>\n",
       "      <td>False</td>\n",
       "    </tr>\n",
       "    <tr>\n",
       "      <th>3</th>\n",
       "      <td>27.0</td>\n",
       "      <td>0</td>\n",
       "      <td>0</td>\n",
       "      <td>False</td>\n",
       "      <td>False</td>\n",
       "      <td>True</td>\n",
       "      <td>False</td>\n",
       "      <td>False</td>\n",
       "      <td>True</td>\n",
       "      <td>False</td>\n",
       "      <td>False</td>\n",
       "      <td>True</td>\n",
       "    </tr>\n",
       "    <tr>\n",
       "      <th>4</th>\n",
       "      <td>22.0</td>\n",
       "      <td>1</td>\n",
       "      <td>1</td>\n",
       "      <td>False</td>\n",
       "      <td>True</td>\n",
       "      <td>False</td>\n",
       "      <td>False</td>\n",
       "      <td>False</td>\n",
       "      <td>True</td>\n",
       "      <td>False</td>\n",
       "      <td>False</td>\n",
       "      <td>True</td>\n",
       "    </tr>\n",
       "  </tbody>\n",
       "</table>\n",
       "</div>"
      ],
      "text/plain": [
       "    Age  SibSp  Parch  Cabin  Sex_female  Sex_male  Embarked_C  Embarked_Q  \\\n",
       "0  34.5      0      0  False       False      True       False        True   \n",
       "1  47.0      1      0  False        True     False       False       False   \n",
       "2  62.0      0      0  False       False      True       False        True   \n",
       "3  27.0      0      0  False       False      True       False       False   \n",
       "4  22.0      1      1  False        True     False       False       False   \n",
       "\n",
       "   Embarked_S  Pclass_1  Pclass_2  Pclass_3  \n",
       "0       False     False     False      True  \n",
       "1        True     False     False      True  \n",
       "2       False     False      True     False  \n",
       "3        True     False     False      True  \n",
       "4        True     False     False      True  "
      ]
     },
     "execution_count": 255,
     "metadata": {},
     "output_type": "execute_result"
    }
   ],
   "source": [
    "#Connaitre l'encodage du csv\n",
    "with open('data/test.csv', 'rb') as file:\n",
    "    rawdata = file.read(10000)\n",
    "    result = chardet.detect(rawdata)\n",
    "    enc = result['encoding']\n",
    "#lire le csv\n",
    "data = pd.read_csv('data/test.csv', encoding = enc)\n",
    "#Afficher toutes les donnees\n",
    "pd.set_option('display.max_rows', None)\n",
    "select_id = data['PassengerId']\n",
    "\n",
    "data = data.drop(columns=['Name','Ticket','PassengerId','Fare'])\n",
    "\n",
    "# Utilisation de mask() pour remplacer toutes les valeurs non Nan par True\n",
    "data['Cabin'] = data['Cabin'].mask(data['Cabin'].notna(),True)\n",
    "#Remplacer toutes les valeurs Nan en False\n",
    "data['Cabin'] = data['Cabin'].fillna(False)\n",
    "data['Age'] = data['Age'].fillna(data_mean)\n",
    "cat_variables = [\n",
    "    'Sex','Embarked','Pclass'\n",
    "]\n",
    "data_hot = pd.get_dummies(data = data,\n",
    "                         prefix = cat_variables,\n",
    "                         columns = cat_variables)\n",
    "data_hot.head()\n"
   ]
  },
  {
   "cell_type": "code",
   "execution_count": 256,
   "id": "19f3662c",
   "metadata": {},
   "outputs": [
    {
     "name": "stdout",
     "output_type": "stream",
     "text": [
      "[0 0 0 0 1 0 0 0 1 0 0 0 1 0 1 1 0 0 1 1 0 1 1 0 1 0 1 0 0 0 0 0 0 0 0 0 0\n",
      " 1 0 0 0 0 0 1 1 0 0 0 1 0 0 0 1 1 0 0 0 0 0 1 0 0 0 1 1 1 1 0 0 1 1 0 0 0\n",
      " 1 1 0 1 0 1 1 0 0 0 0 0 1 0 1 1 0 0 1 0 0 0 1 0 0 0 1 0 0 0 1 0 0 0 0 0 0\n",
      " 1 1 1 1 0 0 1 0 1 1 0 1 0 0 1 0 1 0 0 0 0 0 0 0 0 0 0 1 0 0 1 0 0 0 0 0 0\n",
      " 0 0 1 0 0 0 0 0 1 1 0 1 1 1 1 0 0 1 0 0 1 1 0 0 0 0 0 1 1 0 1 1 0 0 1 0 1\n",
      " 0 1 0 0 0 0 0 0 0 1 0 1 0 0 0 1 1 0 1 0 0 1 0 1 0 0 0 0 1 0 0 1 0 1 0 1 0\n",
      " 1 0 1 0 0 1 0 0 0 1 0 0 0 0 0 0 1 1 1 1 0 0 0 0 1 0 1 1 1 0 1 0 0 0 0 0 1\n",
      " 0 0 0 1 1 0 0 0 0 0 0 0 0 1 1 0 1 0 0 0 0 1 1 1 0 1 0 0 0 0 0 0 0 0 0 0 0\n",
      " 1 0 0 0 0 0 0 0 1 1 0 1 0 0 0 0 0 1 1 1 0 0 0 0 0 0 0 0 1 0 1 0 0 0 1 0 0\n",
      " 0 0 0 0 0 0 0 0 0 0 1 0 0 0 1 0 1 1 0 0 0 1 0 1 0 0 0 0 1 1 0 1 0 0 1 1 0\n",
      " 0 1 0 0 1 1 0 0 0 0 0 0 0 0 0 1 0 0 0 0 0 1 0 0 0 1 0 1 0 0 1 0 1 0 0 0 0\n",
      " 0 1 1 1 1 0 0 1 0 0 0]\n"
     ]
    }
   ],
   "source": [
    "#print(X_train)\n",
    "prediction = xgb_model.predict(data_hot)\n",
    "print(prediction)"
   ]
  },
  {
   "cell_type": "markdown",
   "id": "70b53198",
   "metadata": {},
   "source": [
    "### Écriture de la réponse dans un fichier csv"
   ]
  },
  {
   "cell_type": "code",
   "execution_count": 257,
   "id": "9b6acc8d",
   "metadata": {},
   "outputs": [],
   "source": [
    "size = prediction.shape\n",
    "data_csv = []\n",
    "for i in range(size[0]):\n",
    "    data_csv.append([select_id[i],prediction[i]])\n",
    "header = ['PassengerId','Survived']\n",
    "#Creer et ecrire dans le fichier csv\n",
    "with open('data/predict_titanic.csv','w',newline='') as file:\n",
    "    writer = csv.writer(file)\n",
    "    #ecrire l'en-tete\n",
    "    writer.writerow(header)\n",
    "    #ecrire les donnees\n",
    "    writer.writerows(data_csv)"
   ]
  },
  {
   "cell_type": "code",
   "execution_count": null,
   "id": "ac2ab7fa",
   "metadata": {},
   "outputs": [],
   "source": []
  }
 ],
 "metadata": {
  "kernelspec": {
   "display_name": "Python 3 (ipykernel)",
   "language": "python",
   "name": "python3"
  },
  "language_info": {
   "codemirror_mode": {
    "name": "ipython",
    "version": 3
   },
   "file_extension": ".py",
   "mimetype": "text/x-python",
   "name": "python",
   "nbconvert_exporter": "python",
   "pygments_lexer": "ipython3",
   "version": "3.11.7"
  }
 },
 "nbformat": 4,
 "nbformat_minor": 5
}
